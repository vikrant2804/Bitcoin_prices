{
 "cells": [
  {
   "cell_type": "code",
   "execution_count": 7,
   "id": "d66476de",
   "metadata": {},
   "outputs": [],
   "source": [
    "import numpy as np\n",
    "import pandas as pd"
   ]
  },
  {
   "cell_type": "code",
   "execution_count": 59,
   "id": "9b55bb5f",
   "metadata": {},
   "outputs": [
    {
     "data": {
      "text/html": [
       "<div>\n",
       "<style scoped>\n",
       "    .dataframe tbody tr th:only-of-type {\n",
       "        vertical-align: middle;\n",
       "    }\n",
       "\n",
       "    .dataframe tbody tr th {\n",
       "        vertical-align: top;\n",
       "    }\n",
       "\n",
       "    .dataframe thead th {\n",
       "        text-align: right;\n",
       "    }\n",
       "</style>\n",
       "<table border=\"1\" class=\"dataframe\">\n",
       "  <thead>\n",
       "    <tr style=\"text-align: right;\">\n",
       "      <th></th>\n",
       "      <th>Date</th>\n",
       "      <th>Close</th>\n",
       "    </tr>\n",
       "  </thead>\n",
       "  <tbody>\n",
       "    <tr>\n",
       "      <th>0</th>\n",
       "      <td>1/1/2022 0:00</td>\n",
       "      <td>46224.93</td>\n",
       "    </tr>\n",
       "    <tr>\n",
       "      <th>1</th>\n",
       "      <td>1/1/2022 0:01</td>\n",
       "      <td>46309.63</td>\n",
       "    </tr>\n",
       "    <tr>\n",
       "      <th>2</th>\n",
       "      <td>1/1/2022 0:02</td>\n",
       "      <td>46378.34</td>\n",
       "    </tr>\n",
       "    <tr>\n",
       "      <th>3</th>\n",
       "      <td>1/1/2022 0:03</td>\n",
       "      <td>46347.92</td>\n",
       "    </tr>\n",
       "    <tr>\n",
       "      <th>4</th>\n",
       "      <td>1/1/2022 0:04</td>\n",
       "      <td>46347.67</td>\n",
       "    </tr>\n",
       "    <tr>\n",
       "      <th>...</th>\n",
       "      <td>...</td>\n",
       "      <td>...</td>\n",
       "    </tr>\n",
       "    <tr>\n",
       "      <th>8635</th>\n",
       "      <td>7/1/2022 0:00</td>\n",
       "      <td>43142.26</td>\n",
       "    </tr>\n",
       "    <tr>\n",
       "      <th>8636</th>\n",
       "      <td>7/1/2022 0:01</td>\n",
       "      <td>43099.28</td>\n",
       "    </tr>\n",
       "    <tr>\n",
       "      <th>8637</th>\n",
       "      <td>7/1/2022 0:02</td>\n",
       "      <td>43135.15</td>\n",
       "    </tr>\n",
       "    <tr>\n",
       "      <th>8638</th>\n",
       "      <td>7/1/2022 0:03</td>\n",
       "      <td>43116.29</td>\n",
       "    </tr>\n",
       "    <tr>\n",
       "      <th>8639</th>\n",
       "      <td>7/1/2022 0:04</td>\n",
       "      <td>43113.05</td>\n",
       "    </tr>\n",
       "  </tbody>\n",
       "</table>\n",
       "<p>8640 rows × 2 columns</p>\n",
       "</div>"
      ],
      "text/plain": [
       "               Date     Close\n",
       "0     1/1/2022 0:00  46224.93\n",
       "1     1/1/2022 0:01  46309.63\n",
       "2     1/1/2022 0:02  46378.34\n",
       "3     1/1/2022 0:03  46347.92\n",
       "4     1/1/2022 0:04  46347.67\n",
       "...             ...       ...\n",
       "8635  7/1/2022 0:00  43142.26\n",
       "8636  7/1/2022 0:01  43099.28\n",
       "8637  7/1/2022 0:02  43135.15\n",
       "8638  7/1/2022 0:03  43116.29\n",
       "8639  7/1/2022 0:04  43113.05\n",
       "\n",
       "[8640 rows x 2 columns]"
      ]
     },
     "execution_count": 59,
     "metadata": {},
     "output_type": "execute_result"
    }
   ],
   "source": [
    "df = pd.read_csv(\"bitcoin_data.csv\")\n",
    "df"
   ]
  },
  {
   "cell_type": "code",
   "execution_count": 61,
   "id": "c1065b8e",
   "metadata": {},
   "outputs": [
    {
     "name": "stderr",
     "output_type": "stream",
     "text": [
      "<ipython-input-61-4ce20afa0cea>:1: FutureWarning: In a future version of pandas all arguments of DataFrame.drop except for the argument 'labels' will be keyword-only\n",
      "  df.drop(['Date'], 1, inplace=True)\n"
     ]
    }
   ],
   "source": [
    "df.drop(['Date'], 1, inplace=True)"
   ]
  },
  {
   "cell_type": "code",
   "execution_count": 62,
   "id": "7b9cf13d",
   "metadata": {},
   "outputs": [],
   "source": [
    "df.rename(columns = {'Close':'Price'}, inplace=True)"
   ]
  },
  {
   "cell_type": "code",
   "execution_count": 63,
   "id": "574cd3f3",
   "metadata": {},
   "outputs": [
    {
     "data": {
      "text/html": [
       "<div>\n",
       "<style scoped>\n",
       "    .dataframe tbody tr th:only-of-type {\n",
       "        vertical-align: middle;\n",
       "    }\n",
       "\n",
       "    .dataframe tbody tr th {\n",
       "        vertical-align: top;\n",
       "    }\n",
       "\n",
       "    .dataframe thead th {\n",
       "        text-align: right;\n",
       "    }\n",
       "</style>\n",
       "<table border=\"1\" class=\"dataframe\">\n",
       "  <thead>\n",
       "    <tr style=\"text-align: right;\">\n",
       "      <th></th>\n",
       "      <th>Price</th>\n",
       "    </tr>\n",
       "  </thead>\n",
       "  <tbody>\n",
       "    <tr>\n",
       "      <th>0</th>\n",
       "      <td>46224.93</td>\n",
       "    </tr>\n",
       "    <tr>\n",
       "      <th>2</th>\n",
       "      <td>46378.34</td>\n",
       "    </tr>\n",
       "    <tr>\n",
       "      <th>3</th>\n",
       "      <td>46347.92</td>\n",
       "    </tr>\n",
       "    <tr>\n",
       "      <th>4</th>\n",
       "      <td>46347.67</td>\n",
       "    </tr>\n",
       "    <tr>\n",
       "      <th>5</th>\n",
       "      <td>46411.40</td>\n",
       "    </tr>\n",
       "    <tr>\n",
       "      <th>6</th>\n",
       "      <td>46485.51</td>\n",
       "    </tr>\n",
       "    <tr>\n",
       "      <th>7</th>\n",
       "      <td>46427.88</td>\n",
       "    </tr>\n",
       "  </tbody>\n",
       "</table>\n",
       "</div>"
      ],
      "text/plain": [
       "      Price\n",
       "0  46224.93\n",
       "2  46378.34\n",
       "3  46347.92\n",
       "4  46347.67\n",
       "5  46411.40\n",
       "6  46485.51\n",
       "7  46427.88"
      ]
     },
     "execution_count": 63,
     "metadata": {},
     "output_type": "execute_result"
    }
   ],
   "source": [
    "df.head(7)"
   ]
  },
  {
   "cell_type": "code",
   "execution_count": 64,
   "id": "d77dfb12",
   "metadata": {},
   "outputs": [],
   "source": [
    "# A variable for predicting 'n' price in future\n",
    "prediction_days=180 #n = prediction_days = 180\n",
    "# Create another column shifted 'n' units up\n",
    "df['Prediction'] = df[['Price']].shift(-prediction_days)"
   ]
  },
  {
   "cell_type": "code",
   "execution_count": 65,
   "id": "5c04366c",
   "metadata": {},
   "outputs": [
    {
     "data": {
      "text/html": [
       "<div>\n",
       "<style scoped>\n",
       "    .dataframe tbody tr th:only-of-type {\n",
       "        vertical-align: middle;\n",
       "    }\n",
       "\n",
       "    .dataframe tbody tr th {\n",
       "        vertical-align: top;\n",
       "    }\n",
       "\n",
       "    .dataframe thead th {\n",
       "        text-align: right;\n",
       "    }\n",
       "</style>\n",
       "<table border=\"1\" class=\"dataframe\">\n",
       "  <thead>\n",
       "    <tr style=\"text-align: right;\">\n",
       "      <th></th>\n",
       "      <th>Price</th>\n",
       "      <th>Prediction</th>\n",
       "    </tr>\n",
       "  </thead>\n",
       "  <tbody>\n",
       "    <tr>\n",
       "      <th>0</th>\n",
       "      <td>46224.93</td>\n",
       "      <td>46813.08</td>\n",
       "    </tr>\n",
       "    <tr>\n",
       "      <th>2</th>\n",
       "      <td>46378.34</td>\n",
       "      <td>46804.80</td>\n",
       "    </tr>\n",
       "    <tr>\n",
       "      <th>3</th>\n",
       "      <td>46347.92</td>\n",
       "      <td>46768.31</td>\n",
       "    </tr>\n",
       "    <tr>\n",
       "      <th>4</th>\n",
       "      <td>46347.67</td>\n",
       "      <td>46791.36</td>\n",
       "    </tr>\n",
       "    <tr>\n",
       "      <th>5</th>\n",
       "      <td>46411.40</td>\n",
       "      <td>46781.73</td>\n",
       "    </tr>\n",
       "    <tr>\n",
       "      <th>6</th>\n",
       "      <td>46485.51</td>\n",
       "      <td>46800.67</td>\n",
       "    </tr>\n",
       "    <tr>\n",
       "      <th>7</th>\n",
       "      <td>46427.88</td>\n",
       "      <td>46807.49</td>\n",
       "    </tr>\n",
       "  </tbody>\n",
       "</table>\n",
       "</div>"
      ],
      "text/plain": [
       "      Price  Prediction\n",
       "0  46224.93    46813.08\n",
       "2  46378.34    46804.80\n",
       "3  46347.92    46768.31\n",
       "4  46347.67    46791.36\n",
       "5  46411.40    46781.73\n",
       "6  46485.51    46800.67\n",
       "7  46427.88    46807.49"
      ]
     },
     "execution_count": 65,
     "metadata": {},
     "output_type": "execute_result"
    }
   ],
   "source": [
    "df.head(7)"
   ]
  },
  {
   "cell_type": "code",
   "execution_count": 66,
   "id": "34005eb1",
   "metadata": {},
   "outputs": [
    {
     "data": {
      "text/html": [
       "<div>\n",
       "<style scoped>\n",
       "    .dataframe tbody tr th:only-of-type {\n",
       "        vertical-align: middle;\n",
       "    }\n",
       "\n",
       "    .dataframe tbody tr th {\n",
       "        vertical-align: top;\n",
       "    }\n",
       "\n",
       "    .dataframe thead th {\n",
       "        text-align: right;\n",
       "    }\n",
       "</style>\n",
       "<table border=\"1\" class=\"dataframe\">\n",
       "  <thead>\n",
       "    <tr style=\"text-align: right;\">\n",
       "      <th></th>\n",
       "      <th>Price</th>\n",
       "      <th>Prediction</th>\n",
       "    </tr>\n",
       "  </thead>\n",
       "  <tbody>\n",
       "    <tr>\n",
       "      <th>8633</th>\n",
       "      <td>43147.33</td>\n",
       "      <td>NaN</td>\n",
       "    </tr>\n",
       "    <tr>\n",
       "      <th>8634</th>\n",
       "      <td>43103.33</td>\n",
       "      <td>NaN</td>\n",
       "    </tr>\n",
       "    <tr>\n",
       "      <th>8635</th>\n",
       "      <td>43142.26</td>\n",
       "      <td>NaN</td>\n",
       "    </tr>\n",
       "    <tr>\n",
       "      <th>8636</th>\n",
       "      <td>43099.28</td>\n",
       "      <td>NaN</td>\n",
       "    </tr>\n",
       "    <tr>\n",
       "      <th>8637</th>\n",
       "      <td>43135.15</td>\n",
       "      <td>NaN</td>\n",
       "    </tr>\n",
       "    <tr>\n",
       "      <th>8638</th>\n",
       "      <td>43116.29</td>\n",
       "      <td>NaN</td>\n",
       "    </tr>\n",
       "    <tr>\n",
       "      <th>8639</th>\n",
       "      <td>43113.05</td>\n",
       "      <td>NaN</td>\n",
       "    </tr>\n",
       "  </tbody>\n",
       "</table>\n",
       "</div>"
      ],
      "text/plain": [
       "         Price  Prediction\n",
       "8633  43147.33         NaN\n",
       "8634  43103.33         NaN\n",
       "8635  43142.26         NaN\n",
       "8636  43099.28         NaN\n",
       "8637  43135.15         NaN\n",
       "8638  43116.29         NaN\n",
       "8639  43113.05         NaN"
      ]
     },
     "execution_count": 66,
     "metadata": {},
     "output_type": "execute_result"
    }
   ],
   "source": [
    "df.tail(7)"
   ]
  },
  {
   "cell_type": "code",
   "execution_count": 67,
   "id": "10094c1d",
   "metadata": {},
   "outputs": [
    {
     "name": "stdout",
     "output_type": "stream",
     "text": [
      "[[46224.93]\n",
      " [46378.34]\n",
      " [46347.92]\n",
      " ...\n",
      " [43215.43]\n",
      " [43225.12]\n",
      " [43192.24]]\n"
     ]
    },
    {
     "name": "stderr",
     "output_type": "stream",
     "text": [
      "<ipython-input-67-a227313cd712>:2: FutureWarning: In a future version of pandas all arguments of DataFrame.drop except for the argument 'labels' will be keyword-only\n",
      "  X = np.array(df.drop(['Prediction'],1))\n"
     ]
    }
   ],
   "source": [
    "# Convert the dataframe to a numpy array and drop the prediction column\n",
    "X = np.array(df.drop(['Prediction'],1))\n",
    "\n",
    "#Remove the last 'n' rows where 'n' is the prediction_days\n",
    "X = X[:len(df)-prediction_days]\n",
    "\n",
    "print(X)"
   ]
  },
  {
   "cell_type": "code",
   "execution_count": 68,
   "id": "dbd7c4e6",
   "metadata": {},
   "outputs": [
    {
     "name": "stdout",
     "output_type": "stream",
     "text": [
      "[46813.08 46804.8  46768.31 ... 43135.15 43116.29 43113.05]\n"
     ]
    }
   ],
   "source": [
    "# Create the dependent data set\n",
    "# Convert the dataframe to a numpy array\n",
    "y = np.array(df['Prediction'])\n",
    "# Get all of the values except the last 'n' rows\n",
    "y = y[:-prediction_days]\n",
    "print(y)"
   ]
  },
  {
   "cell_type": "code",
   "execution_count": 69,
   "id": "a9505f04",
   "metadata": {},
   "outputs": [],
   "source": [
    "#Split the data into 80% training and 20% testing\n",
    "from sklearn.model_selection import train_test_split\n",
    "x_train, x_test, y_train, y_test = train_test_split(X,y, test_size = 0.2)"
   ]
  },
  {
   "cell_type": "code",
   "execution_count": 70,
   "id": "3b2a78cb",
   "metadata": {},
   "outputs": [
    {
     "name": "stdout",
     "output_type": "stream",
     "text": [
      "[[43238.96]\n",
      " [43195.47]\n",
      " [43162.31]\n",
      " [43174.38]\n",
      " [43139.11]\n",
      " [43156.96]\n",
      " [43177.59]\n",
      " [43204.62]\n",
      " [43185.31]\n",
      " [43159.09]\n",
      " [43156.97]\n",
      " [43160.67]\n",
      " [43188.64]\n",
      " [43200.94]\n",
      " [43202.6 ]\n",
      " [43224.25]\n",
      " [43212.19]\n",
      " [43208.97]\n",
      " [43213.78]\n",
      " [43193.81]\n",
      " [43134.  ]\n",
      " [43130.01]\n",
      " [43143.6 ]\n",
      " [43160.92]\n",
      " [43198.01]\n",
      " [43224.48]\n",
      " [43222.46]\n",
      " [43237.64]\n",
      " [43218.91]\n",
      " [43191.1 ]\n",
      " [43205.3 ]\n",
      " [43184.06]\n",
      " [43176.67]\n",
      " [43204.02]\n",
      " [43205.9 ]\n",
      " [43170.74]\n",
      " [43166.83]\n",
      " [43184.61]\n",
      " [43146.11]\n",
      " [43127.43]\n",
      " [43100.01]\n",
      " [43102.7 ]\n",
      " [43127.12]\n",
      " [43146.59]\n",
      " [43136.38]\n",
      " [43158.42]\n",
      " [43174.79]\n",
      " [43169.37]\n",
      " [43150.75]\n",
      " [43158.61]\n",
      " [43150.46]\n",
      " [43148.63]\n",
      " [43115.91]\n",
      " [43117.88]\n",
      " [43129.2 ]\n",
      " [43150.03]\n",
      " [43126.37]\n",
      " [43120.71]\n",
      " [43134.76]\n",
      " [43130.91]\n",
      " [43149.04]\n",
      " [43159.8 ]\n",
      " [43157.29]\n",
      " [43113.11]\n",
      " [43119.68]\n",
      " [43125.95]\n",
      " [43113.18]\n",
      " [43097.01]\n",
      " [43051.57]\n",
      " [43036.6 ]\n",
      " [43077.37]\n",
      " [43027.12]\n",
      " [43016.98]\n",
      " [43060.53]\n",
      " [43064.11]\n",
      " [43124.  ]\n",
      " [43145.86]\n",
      " [43122.66]\n",
      " [43118.12]\n",
      " [43157.16]\n",
      " [43148.2 ]\n",
      " [43157.34]\n",
      " [43136.24]\n",
      " [43140.48]\n",
      " [43147.61]\n",
      " [43148.22]\n",
      " [43150.42]\n",
      " [43159.06]\n",
      " [43182.78]\n",
      " [43186.95]\n",
      " [43197.04]\n",
      " [43208.51]\n",
      " [43237.76]\n",
      " [43216.67]\n",
      " [43193.21]\n",
      " [43190.72]\n",
      " [43196.89]\n",
      " [43165.55]\n",
      " [43141.9 ]\n",
      " [43112.97]\n",
      " [43154.29]\n",
      " [43138.49]\n",
      " [43138.49]\n",
      " [43129.12]\n",
      " [43136.32]\n",
      " [43145.  ]\n",
      " [43165.17]\n",
      " [43174.82]\n",
      " [43174.82]\n",
      " [43191.69]\n",
      " [43178.39]\n",
      " [43174.14]\n",
      " [43192.31]\n",
      " [43199.76]\n",
      " [43175.08]\n",
      " [43174.82]\n",
      " [43166.22]\n",
      " [43134.27]\n",
      " [43137.17]\n",
      " [43144.  ]\n",
      " [43178.92]\n",
      " [43163.66]\n",
      " [43145.17]\n",
      " [43146.33]\n",
      " [43127.12]\n",
      " [43104.36]\n",
      " [43117.39]\n",
      " [43129.39]\n",
      " [43141.83]\n",
      " [43140.91]\n",
      " [43122.31]\n",
      " [43124.48]\n",
      " [43125.9 ]\n",
      " [43101.15]\n",
      " [43100.01]\n",
      " [43111.09]\n",
      " [43100.61]\n",
      " [43080.05]\n",
      " [43080.02]\n",
      " [43080.97]\n",
      " [43113.54]\n",
      " [43135.94]\n",
      " [43153.3 ]\n",
      " [43145.  ]\n",
      " [43154.89]\n",
      " [43159.21]\n",
      " [43133.68]\n",
      " [43121.35]\n",
      " [43145.44]\n",
      " [43156.28]\n",
      " [43163.  ]\n",
      " [43165.  ]\n",
      " [43165.  ]\n",
      " [43206.94]\n",
      " [43209.01]\n",
      " [43217.8 ]\n",
      " [43227.53]\n",
      " [43222.57]\n",
      " [43229.72]\n",
      " [43213.42]\n",
      " [43229.1 ]\n",
      " [43210.01]\n",
      " [43177.93]\n",
      " [43179.46]\n",
      " [43132.58]\n",
      " [43135.39]\n",
      " [43142.8 ]\n",
      " [43121.32]\n",
      " [43139.38]\n",
      " [43118.67]\n",
      " [43132.3 ]\n",
      " [43136.83]\n",
      " [43163.04]\n",
      " [43147.33]\n",
      " [43103.33]\n",
      " [43142.26]\n",
      " [43099.28]\n",
      " [43135.15]\n",
      " [43116.29]\n",
      " [43113.05]]\n"
     ]
    },
    {
     "name": "stderr",
     "output_type": "stream",
     "text": [
      "<ipython-input-70-43ba42c90ab5>:2: FutureWarning: In a future version of pandas all arguments of DataFrame.drop except for the argument 'labels' will be keyword-only\n",
      "  prediction_days_array = np.array(df.drop(['Prediction'], 1))[-prediction_days:]\n"
     ]
    }
   ],
   "source": [
    "#Set the prediction_days_array equal to last 180 rows from the orignal data set\n",
    "prediction_days_array = np.array(df.drop(['Prediction'], 1))[-prediction_days:]\n",
    "print(prediction_days_array)"
   ]
  },
  {
   "cell_type": "code",
   "execution_count": 71,
   "id": "299baaa0",
   "metadata": {},
   "outputs": [
    {
     "data": {
      "text/plain": [
       "SVR(C=1000.0, gamma=1e-05)"
      ]
     },
     "execution_count": 71,
     "metadata": {},
     "output_type": "execute_result"
    }
   ],
   "source": [
    "from sklearn.svm import SVR\n",
    "#Create and train the Support Vector Machine (Regression) using radial basis function\n",
    "svr_rbf = SVR(kernel='rbf', C=1e3, gamma=0.00001)\n",
    "svr_rbf.fit(x_train, y_train)"
   ]
  },
  {
   "cell_type": "code",
   "execution_count": 72,
   "id": "3d6f7671",
   "metadata": {},
   "outputs": [
    {
     "name": "stdout",
     "output_type": "stream",
     "text": [
      "svr_rbf accuracy:  0.9151574640063829\n"
     ]
    }
   ],
   "source": [
    "#Test the Model\n",
    "svr_rbf_confidence = svr_rbf.score(x_test, y_test)\n",
    "print(\"svr_rbf accuracy: \", svr_rbf_confidence)"
   ]
  },
  {
   "cell_type": "code",
   "execution_count": 73,
   "id": "5ee47a27",
   "metadata": {},
   "outputs": [
    {
     "name": "stdout",
     "output_type": "stream",
     "text": [
      "[46377.70736941 47162.79396852 46999.26767824 ... 47082.07699531\n",
      " 43419.60387371 43172.9039223 ]\n",
      "\n",
      "[46249.49 47253.96 47348.04 ... 46822.64 43465.88 43174.82]\n"
     ]
    }
   ],
   "source": [
    "#Print the predicted values\n",
    "svm_prediction = svr_rbf.predict(x_test)\n",
    "print(svm_prediction)\n",
    "\n",
    "print()\n",
    "\n",
    "#Print the actual values\n",
    "print(y_test)"
   ]
  },
  {
   "cell_type": "code",
   "execution_count": 58,
   "id": "742c4aa5",
   "metadata": {},
   "outputs": [
    {
     "name": "stdout",
     "output_type": "stream",
     "text": [
      "[46889.4970317  46847.3566203  46792.44825667 46955.63586886\n",
      " 46949.30920134 46911.12002789 46895.48493657 46904.68440552\n",
      " 46887.56047214 46792.50070719 46859.68742785 46905.77769947\n",
      " 46917.88824602 46863.62826854 46845.66840832 46778.31971326\n",
      " 46849.77051291 46816.98171896 46811.49291401 46745.28232387\n",
      " 46743.89876911 46690.58182613 46670.94523945 46705.99722677\n",
      " 46859.9606492  46840.48550627 46851.95288538 46829.71206342\n",
      " 46860.45719446 46901.41533497 46935.72269896 47006.79488919\n",
      " 46965.32072818 46961.99426262 46973.38900025 46989.89925955\n",
      " 46989.91776174 46997.8348716  47020.60690917 47065.50065438\n",
      " 47059.35649635 47053.24275975 47058.80774029 47053.14326513\n",
      " 47040.10603382 46959.23080908 46975.15317804 46970.26643433\n",
      " 46931.57167528 46918.65998476 46905.75445995 46961.60670178\n",
      " 46968.03349146 46942.29389452 46897.11453942 46888.63704179\n",
      " 46875.65422882 46843.06756763 46795.95937221 46854.58004261\n",
      " 46812.21902627 46823.37538167 46782.59097366 46795.5928355\n",
      " 46841.44819396 46848.58945896 46811.20755999 46834.79322527\n",
      " 46941.25987906 46762.20611515 46767.90394832 46746.69224888\n",
      " 46705.99722677 46695.6167795  46783.43380881 46784.90804975\n",
      " 46779.24312287 46767.50671887 46801.60533367 46801.60533367\n",
      " 46857.02527204 46839.24285796 46942.61648105 47017.24160317\n",
      " 46992.82379809 46950.82747413 46970.58411145 46940.84985129\n",
      " 46892.33168982 46878.49799072 46838.22738623 46841.5494784\n",
      " 46847.23073341 46853.75516772 46881.71710819 46941.47551705\n",
      " 46984.57044518 46915.81689287 47021.25947683 47058.19659304\n",
      " 47033.53136966 47004.32502381 46972.18728284 46917.29729307\n",
      " 46786.30244927 46730.90714263 46687.85535371 46659.01554597\n",
      " 46621.30487851 46637.30161105 46510.668829   46493.16824737\n",
      " 46438.83894937 46432.31518168 46374.89224129 46374.89224129\n",
      " 46403.8011915  46411.533136   46419.30999431 46469.87304895\n",
      " 46515.83684826 46542.61256178 46561.72339357 46518.89489485\n",
      " 46529.85278159 46505.06730686 46478.25979183 46461.5174371\n",
      " 46618.15059746 46601.41363347 46604.468484   46619.80298163\n",
      " 46468.03259121 46461.27190318 46395.69746035 46403.27512746\n",
      " 46487.94576775 46447.95168512 46433.74614479 46350.09006039\n",
      " 46335.45618077 46330.22100802 46330.22100802 46330.31565685\n",
      " 46333.80192932 46343.30929606 46344.31697404 46344.31697404\n",
      " 46342.09460433 46342.09460433 46340.6721291  46344.05957158\n",
      " 46340.66907695 46346.12042271 46346.11858575 46346.35172117\n",
      " 46343.94275447 46346.01488808 46341.73370535 46316.34921609\n",
      " 46305.30217106 46296.29489718 46304.98855227 46328.76559435\n",
      " 46331.52414852 46335.73397113 46337.95420005 46305.70401063\n",
      " 46324.82637717 46346.03874822 46342.84371182 46346.20739756\n",
      " 46339.72162018 46330.12226397 46343.06062718 46342.76922519\n",
      " 46342.82935741 46346.37067221 46327.78890574 46274.23118394]\n"
     ]
    }
   ],
   "source": [
    "#Print the model prediction for the next 'n=180' days\n",
    "svm_prediction = svr_rbf.predict(prediction_days_array)\n",
    "print(svm_prediction)"
   ]
  },
  {
   "cell_type": "code",
   "execution_count": null,
   "id": "451872e4",
   "metadata": {},
   "outputs": [],
   "source": []
  }
 ],
 "metadata": {
  "kernelspec": {
   "display_name": "Python 3",
   "language": "python",
   "name": "python3"
  },
  "language_info": {
   "codemirror_mode": {
    "name": "ipython",
    "version": 3
   },
   "file_extension": ".py",
   "mimetype": "text/x-python",
   "name": "python",
   "nbconvert_exporter": "python",
   "pygments_lexer": "ipython3",
   "version": "3.8.8"
  }
 },
 "nbformat": 4,
 "nbformat_minor": 5
}
